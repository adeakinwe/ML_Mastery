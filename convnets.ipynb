{
  "nbformat": 4,
  "nbformat_minor": 0,
  "metadata": {
    "colab": {
      "provenance": [],
      "gpuType": "T4",
      "authorship_tag": "ABX9TyOaChNJetFFEpCpS1dEjAf4",
      "include_colab_link": true
    },
    "kernelspec": {
      "name": "python3",
      "display_name": "Python 3"
    },
    "language_info": {
      "name": "python"
    },
    "accelerator": "GPU"
  },
  "cells": [
    {
      "cell_type": "markdown",
      "metadata": {
        "id": "view-in-github",
        "colab_type": "text"
      },
      "source": [
        "<a href=\"https://colab.research.google.com/github/adeakinwe/ML_Mastery/blob/main/convnets.ipynb\" target=\"_parent\"><img src=\"https://colab.research.google.com/assets/colab-badge.svg\" alt=\"Open In Colab\"/></a>"
      ]
    },
    {
      "cell_type": "markdown",
      "source": [
        "COMPARE SIMPLE NEURAL NETWORK AND CONVOLUTIONAL NEURAL NETWORK (CNN)"
      ],
      "metadata": {
        "id": "antZuGxs7K9k"
      }
    },
    {
      "cell_type": "markdown",
      "source": [
        "Simple Neural Network (Multi-layer perceptrons)"
      ],
      "metadata": {
        "id": "0D-qmoFz6-SW"
      }
    },
    {
      "cell_type": "code",
      "execution_count": 2,
      "metadata": {
        "id": "usoI8kOWefv9",
        "colab": {
          "base_uri": "https://localhost:8080/"
        },
        "outputId": "852c30b2-a815-421b-ac22-308e71eeb3c3"
      },
      "outputs": [
        {
          "output_type": "stream",
          "name": "stdout",
          "text": [
            "Downloading data from https://storage.googleapis.com/tensorflow/tf-keras-datasets/mnist.npz\n",
            "11490434/11490434 [==============================] - 2s 0us/step\n"
          ]
        }
      ],
      "source": [
        "# Plot ad hoc mnist instances\n",
        "from keras.datasets import mnist\n",
        "import matplotlib.pyplot as plt\n",
        "# load (downloaded if needed) the MNIST dataset\n",
        "(X_train, y_train), (X_test, y_test) = mnist.load_data()"
      ]
    },
    {
      "cell_type": "code",
      "source": [
        "# plot 4 images as gray scale\n",
        "plt.subplot(221)\n",
        "plt.imshow(X_train[10], cmap=plt.get_cmap('gray'))\n",
        "plt.subplot(222)\n",
        "plt.imshow(X_train[11], cmap=plt.get_cmap('gray'))\n",
        "plt.subplot(223)\n",
        "plt.imshow(X_train[12], cmap=plt.get_cmap('gray'))\n",
        "plt.subplot(224)\n",
        "plt.imshow(X_train[13], cmap=plt.get_cmap('gray'))\n",
        "# show the plot\n",
        "plt.show()"
      ],
      "metadata": {
        "colab": {
          "base_uri": "https://localhost:8080/",
          "height": 432
        },
        "id": "HZoRAV5WfPvs",
        "outputId": "fba4ccf2-5b2d-417d-818b-bdf499e863bb"
      },
      "execution_count": 3,
      "outputs": [
        {
          "output_type": "display_data",
          "data": {
            "text/plain": [
              "<Figure size 640x480 with 4 Axes>"
            ],
            "image/png": "[encoded data removed]"
          },
          "metadata": {}
        }
      ]
    },
    {
      "cell_type": "code",
      "source": [
        "import numpy\n",
        "from keras.datasets import mnist\n",
        "from keras.models import Sequential\n",
        "from keras.layers import Dense\n",
        "from keras.layers import Dropout\n",
        "from keras.utils import to_categorical"
      ],
      "metadata": {
        "id": "hAeXXn0qfUoC"
      },
      "execution_count": 4,
      "outputs": []
    },
    {
      "cell_type": "code",
      "source": [
        "# fix random seed for reproducibility\n",
        "seed = 7\n",
        "numpy.random.seed(seed)"
      ],
      "metadata": {
        "id": "nLvt1se7hy9L"
      },
      "execution_count": 5,
      "outputs": []
    },
    {
      "cell_type": "code",
      "source": [
        "# load data\n",
        "(X_train, y_train), (X_test, y_test) = mnist.load_data()"
      ],
      "metadata": {
        "id": "IL9Y1pF8jG7a"
      },
      "execution_count": 6,
      "outputs": []
    },
    {
      "cell_type": "code",
      "source": [
        "# flatten 28*28 images to a 784 vector for each image\n",
        "num_pixels = X_train.shape[1] * X_train.shape[2]\n",
        "X_train = X_train.reshape(X_train.shape[0], num_pixels).astype('float32')\n",
        "X_test = X_test.reshape(X_test.shape[0], num_pixels).astype('float32')"
      ],
      "metadata": {
        "id": "gtLzu3czjnZT"
      },
      "execution_count": 7,
      "outputs": []
    },
    {
      "cell_type": "code",
      "source": [
        "print(num_pixels)"
      ],
      "metadata": {
        "colab": {
          "base_uri": "https://localhost:8080/"
        },
        "id": "tom5lvCwnNob",
        "outputId": "e266cc1f-823e-453b-f933-ca0185d8373e"
      },
      "execution_count": 8,
      "outputs": [
        {
          "output_type": "stream",
          "name": "stdout",
          "text": [
            "784\n"
          ]
        }
      ]
    },
    {
      "cell_type": "code",
      "source": [
        "# normalize inputs from 0-255 to 0-1\n",
        "X_train = X_train / 255\n",
        "X_test = X_test / 255"
      ],
      "metadata": {
        "id": "QreaeTRqj-Tz"
      },
      "execution_count": 9,
      "outputs": []
    },
    {
      "cell_type": "code",
      "source": [
        "# one hot encode outputs\n",
        "y_train = to_categorical(y_train)\n",
        "y_test = to_categorical(y_test)\n",
        "num_classes = y_test.shape[1]"
      ],
      "metadata": {
        "id": "qguhlmdOkzJz"
      },
      "execution_count": 10,
      "outputs": []
    },
    {
      "cell_type": "code",
      "source": [
        "print(num_classes)"
      ],
      "metadata": {
        "colab": {
          "base_uri": "https://localhost:8080/"
        },
        "id": "5QcB4XVFnZ8I",
        "outputId": "51172522-5f74-471e-87dd-5482c772a322"
      },
      "execution_count": 11,
      "outputs": [
        {
          "output_type": "stream",
          "name": "stdout",
          "text": [
            "10\n"
          ]
        }
      ]
    },
    {
      "cell_type": "code",
      "source": [
        "# define baseline model\n",
        "def baseline_model():\n",
        "# create model\n",
        "  model = Sequential()\n",
        "  model.add(Dense(num_pixels, input_dim=num_pixels, kernel_initializer= 'normal' , activation= 'relu' ))\n",
        "  model.add(Dense(num_classes, kernel_initializer= 'normal' , activation= 'softmax' ))\n",
        "  # Compile model\n",
        "  model.compile(loss= 'categorical_crossentropy' , optimizer= 'adam' , metrics=['accuracy'])\n",
        "  return model"
      ],
      "metadata": {
        "id": "GAUfBt-wk-3g"
      },
      "execution_count": 12,
      "outputs": []
    },
    {
      "cell_type": "code",
      "source": [
        "# build the model\n",
        "model = baseline_model()\n",
        "# Fit the model\n",
        "model.fit(X_train, y_train, validation_data=(X_test, y_test), epochs=10, batch_size=200,\n",
        "verbose=2)\n",
        "# Final evaluation of the model\n",
        "scores = model.evaluate(X_test, y_test, verbose=0)\n",
        "print(\"Baseline Error: %.2f%%\" % (100-scores[1]*100))"
      ],
      "metadata": {
        "colab": {
          "base_uri": "https://localhost:8080/"
        },
        "id": "zuwHegLRmkpi",
        "outputId": "f23750c7-0292-4d54-e736-684c864b5939"
      },
      "execution_count": 13,
      "outputs": [
        {
          "output_type": "stream",
          "name": "stdout",
          "text": [
            "Epoch 1/10\n",
            "300/300 - 3s - loss: 0.2770 - accuracy: 0.9209 - val_loss: 0.1360 - val_accuracy: 0.9594 - 3s/epoch - 10ms/step\n",
            "Epoch 2/10\n",
            "300/300 - 1s - loss: 0.1102 - accuracy: 0.9685 - val_loss: 0.0924 - val_accuracy: 0.9719 - 787ms/epoch - 3ms/step\n",
            "Epoch 3/10\n",
            "300/300 - 1s - loss: 0.0703 - accuracy: 0.9799 - val_loss: 0.0745 - val_accuracy: 0.9771 - 833ms/epoch - 3ms/step\n",
            "Epoch 4/10\n",
            "300/300 - 1s - loss: 0.0501 - accuracy: 0.9849 - val_loss: 0.0697 - val_accuracy: 0.9777 - 832ms/epoch - 3ms/step\n",
            "Epoch 5/10\n",
            "300/300 - 1s - loss: 0.0366 - accuracy: 0.9896 - val_loss: 0.0621 - val_accuracy: 0.9797 - 808ms/epoch - 3ms/step\n",
            "Epoch 6/10\n",
            "300/300 - 1s - loss: 0.0264 - accuracy: 0.9930 - val_loss: 0.0623 - val_accuracy: 0.9798 - 975ms/epoch - 3ms/step\n",
            "Epoch 7/10\n",
            "300/300 - 1s - loss: 0.0192 - accuracy: 0.9952 - val_loss: 0.0626 - val_accuracy: 0.9800 - 1s/epoch - 5ms/step\n",
            "Epoch 8/10\n",
            "300/300 - 1s - loss: 0.0138 - accuracy: 0.9972 - val_loss: 0.0591 - val_accuracy: 0.9821 - 1s/epoch - 4ms/step\n",
            "Epoch 9/10\n",
            "300/300 - 1s - loss: 0.0106 - accuracy: 0.9978 - val_loss: 0.0658 - val_accuracy: 0.9796 - 1s/epoch - 4ms/step\n",
            "Epoch 10/10\n",
            "300/300 - 1s - loss: 0.0081 - accuracy: 0.9985 - val_loss: 0.0580 - val_accuracy: 0.9816 - 763ms/epoch - 3ms/step\n",
            "Baseline Error: 1.84%\n"
          ]
        }
      ]
    },
    {
      "cell_type": "markdown",
      "source": [
        "CONVNETS (CNN)"
      ],
      "metadata": {
        "id": "gncGEkzE7atF"
      }
    },
    {
      "cell_type": "code",
      "source": [
        "import numpy\n",
        "from keras.datasets import mnist\n",
        "from keras.models import Sequential\n",
        "from keras.layers import Dense\n",
        "from keras.layers import Dropout\n",
        "from keras.layers import Flatten\n",
        "from keras.layers import Convolution2D\n",
        "from keras.layers import MaxPooling2D\n",
        "from keras.utils import to_categorical\n",
        "from keras import backend as K\n",
        "K.set_image_data_format('channels_first')"
      ],
      "metadata": {
        "id": "y_x8xY0U7iXm"
      },
      "execution_count": 30,
      "outputs": []
    },
    {
      "cell_type": "code",
      "source": [
        "# fix random seed for reproducibility\n",
        "seed = 7\n",
        "numpy.random.seed(seed)"
      ],
      "metadata": {
        "id": "or7JbOzR8azc"
      },
      "execution_count": 31,
      "outputs": []
    },
    {
      "cell_type": "code",
      "source": [
        "# load data\n",
        "(X_train, y_train), (X_test, y_test) = mnist.load_data()\n",
        "# reshape to be [samples][channels][width][height]\n",
        "X_train = X_train.reshape(X_train.shape[0], 1, 28, 28).astype('float32')\n",
        "X_test = X_test.reshape(X_test.shape[0], 1, 28, 28).astype('float32')"
      ],
      "metadata": {
        "id": "iOx-x3HE8s6d"
      },
      "execution_count": 32,
      "outputs": []
    },
    {
      "cell_type": "code",
      "source": [
        "# normalize inputs from 0-255 to 0-1\n",
        "X_train = X_train / 255\n",
        "X_test = X_test / 255"
      ],
      "metadata": {
        "id": "Mw36QVi183Rb"
      },
      "execution_count": 33,
      "outputs": []
    },
    {
      "cell_type": "code",
      "source": [
        "# one hot encode outputs\n",
        "y_train = to_categorical(y_train)\n",
        "y_test = to_categorical(y_test)\n",
        "num_classes = y_test.shape[1]"
      ],
      "metadata": {
        "id": "wecNTYgj9XV4"
      },
      "execution_count": 34,
      "outputs": []
    },
    {
      "cell_type": "code",
      "source": [
        "def baseline_model():\n",
        "  # create model\n",
        "  model = Sequential()\n",
        "  model.add(Convolution2D(32, 5, 5, padding= 'same' , input_shape=(1, 28, 28),\n",
        "  activation= 'relu' ))\n",
        "  model.add(MaxPooling2D(pool_size=(2, 2), padding= 'same'))\n",
        "  model.add(Dropout(0.2))\n",
        "  model.add(Flatten())\n",
        "  model.add(Dense(128, activation= 'relu' ))\n",
        "  model.add(Dense(num_classes, activation= 'softmax' ))\n",
        "  # Compile model\n",
        "  model.compile(loss= 'categorical_crossentropy' , optimizer= 'adam' , metrics=['accuracy'])\n",
        "  return model"
      ],
      "metadata": {
        "id": "ldO7Pr2k_oIq"
      },
      "execution_count": 35,
      "outputs": []
    },
    {
      "cell_type": "code",
      "source": [
        "# build the model\n",
        "model = baseline_model()\n",
        "# Fit the model\n",
        "model.fit(X_train, y_train, validation_data=(X_test, y_test), epochs=10, batch_size=200,\n",
        "verbose=2)\n",
        "# Final evaluation of the model\n",
        "scores = model.evaluate(X_test, y_test, verbose=0)\n",
        "print(\"CNN Error: %.2f%%\" % (100-scores[1]*100))"
      ],
      "metadata": {
        "colab": {
          "base_uri": "https://localhost:8080/"
        },
        "id": "D_1L1ibOAQYP",
        "outputId": "6b48211b-c557-4bda-fe2e-98db80cf4b52"
      },
      "execution_count": 36,
      "outputs": [
        {
          "output_type": "stream",
          "name": "stdout",
          "text": [
            "Epoch 1/10\n",
            "300/300 - 3s - loss: 0.8681 - accuracy: 0.7329 - val_loss: 0.4044 - val_accuracy: 0.8806 - 3s/epoch - 10ms/step\n",
            "Epoch 2/10\n",
            "300/300 - 1s - loss: 0.4211 - accuracy: 0.8676 - val_loss: 0.2903 - val_accuracy: 0.9132 - 954ms/epoch - 3ms/step\n",
            "Epoch 3/10\n",
            "300/300 - 1s - loss: 0.3405 - accuracy: 0.8927 - val_loss: 0.2337 - val_accuracy: 0.9296 - 932ms/epoch - 3ms/step\n",
            "Epoch 4/10\n",
            "300/300 - 1s - loss: 0.2966 - accuracy: 0.9064 - val_loss: 0.2156 - val_accuracy: 0.9303 - 870ms/epoch - 3ms/step\n",
            "Epoch 5/10\n",
            "300/300 - 1s - loss: 0.2675 - accuracy: 0.9152 - val_loss: 0.1904 - val_accuracy: 0.9421 - 932ms/epoch - 3ms/step\n",
            "Epoch 6/10\n",
            "300/300 - 1s - loss: 0.2498 - accuracy: 0.9201 - val_loss: 0.1804 - val_accuracy: 0.9420 - 896ms/epoch - 3ms/step\n",
            "Epoch 7/10\n",
            "300/300 - 1s - loss: 0.2260 - accuracy: 0.9278 - val_loss: 0.1694 - val_accuracy: 0.9456 - 861ms/epoch - 3ms/step\n",
            "Epoch 8/10\n",
            "300/300 - 1s - loss: 0.2213 - accuracy: 0.9297 - val_loss: 0.1550 - val_accuracy: 0.9522 - 861ms/epoch - 3ms/step\n",
            "Epoch 9/10\n",
            "300/300 - 1s - loss: 0.2055 - accuracy: 0.9345 - val_loss: 0.1479 - val_accuracy: 0.9537 - 875ms/epoch - 3ms/step\n",
            "Epoch 10/10\n",
            "300/300 - 1s - loss: 0.1979 - accuracy: 0.9357 - val_loss: 0.1436 - val_accuracy: 0.9574 - 920ms/epoch - 3ms/step\n",
            "CNN Error: 4.26%\n"
          ]
        }
      ]
    },
    {
      "cell_type": "code",
      "source": [
        "#More convnets layer\n",
        "\n",
        "def larger_baseline_model():\n",
        "  # create model\n",
        "  model = Sequential()\n",
        "  model.add(Convolution2D(30, 5, 5, input_shape=(1, 28, 28), padding= 'same', activation= 'relu'))\n",
        "  model.add(MaxPooling2D(pool_size=(2, 2) , padding= 'same'))\n",
        "  model.add(Convolution2D(15, 3, 3,  padding= 'same', activation= 'relu' ))\n",
        "  model.add(MaxPooling2D(pool_size=(2, 2), padding= 'same'))\n",
        "  model.add(Dropout(0.2))\n",
        "  model.add(Flatten())\n",
        "  model.add(Dense(128, activation= 'relu'))\n",
        "  model.add(Dense(50, activation= 'relu'))\n",
        "  model.add(Dense(num_classes, activation= 'softmax'))\n",
        "  # Compile model\n",
        "  model.compile(loss= 'categorical_crossentropy' , optimizer= 'adam' , metrics=['accuracy'])\n",
        "  return model"
      ],
      "metadata": {
        "id": "x0Ud6aCxHoRj"
      },
      "execution_count": 42,
      "outputs": []
    },
    {
      "cell_type": "code",
      "source": [
        "# build the model\n",
        "model = larger_baseline_model()\n",
        "# Fit the model\n",
        "model.fit(X_train, y_train, validation_data=(X_test, y_test), epochs=10, batch_size=200,\n",
        "verbose=2)\n",
        "# Final evaluation of the model\n",
        "scores = model.evaluate(X_test, y_test, verbose=0)\n",
        "print(\"Large CNN Error: %.2f%%\" % (100-scores[1]*100))"
      ],
      "metadata": {
        "colab": {
          "base_uri": "https://localhost:8080/"
        },
        "id": "NY3VfbNOHi6S",
        "outputId": "634a3f14-947a-4eed-9183-24e10d4986c7"
      },
      "execution_count": 43,
      "outputs": [
        {
          "output_type": "stream",
          "name": "stdout",
          "text": [
            "Epoch 1/10\n",
            "300/300 - 3s - loss: 1.2424 - accuracy: 0.5670 - val_loss: 0.5946 - val_accuracy: 0.8080 - 3s/epoch - 9ms/step\n",
            "Epoch 2/10\n",
            "300/300 - 1s - loss: 0.6695 - accuracy: 0.7746 - val_loss: 0.4088 - val_accuracy: 0.8660 - 1s/epoch - 4ms/step\n",
            "Epoch 3/10\n",
            "300/300 - 1s - loss: 0.5221 - accuracy: 0.8260 - val_loss: 0.3137 - val_accuracy: 0.8992 - 1s/epoch - 4ms/step\n",
            "Epoch 4/10\n",
            "300/300 - 1s - loss: 0.4508 - accuracy: 0.8510 - val_loss: 0.2663 - val_accuracy: 0.9159 - 1s/epoch - 4ms/step\n",
            "Epoch 5/10\n",
            "300/300 - 2s - loss: 0.4075 - accuracy: 0.8648 - val_loss: 0.2562 - val_accuracy: 0.9154 - 2s/epoch - 5ms/step\n",
            "Epoch 6/10\n",
            "300/300 - 1s - loss: 0.3800 - accuracy: 0.8743 - val_loss: 0.2373 - val_accuracy: 0.9208 - 1s/epoch - 5ms/step\n",
            "Epoch 7/10\n",
            "300/300 - 1s - loss: 0.3600 - accuracy: 0.8821 - val_loss: 0.2193 - val_accuracy: 0.9281 - 1s/epoch - 4ms/step\n",
            "Epoch 8/10\n",
            "300/300 - 1s - loss: 0.3407 - accuracy: 0.8896 - val_loss: 0.2164 - val_accuracy: 0.9284 - 1s/epoch - 3ms/step\n",
            "Epoch 9/10\n",
            "300/300 - 1s - loss: 0.3264 - accuracy: 0.8950 - val_loss: 0.2030 - val_accuracy: 0.9315 - 1s/epoch - 4ms/step\n",
            "Epoch 10/10\n",
            "300/300 - 1s - loss: 0.3120 - accuracy: 0.8972 - val_loss: 0.2064 - val_accuracy: 0.9338 - 1s/epoch - 4ms/step\n",
            "Large CNN Error: 6.62%\n"
          ]
        }
      ]
    }
  ]
}