# Multiclass Classification with the Iris Flowers Dataset
import numpy as np
import pandas as pd
from keras.models import Sequential
from keras.layers import Dense
from scikeras.wrappers import KerasClassifier
from keras.utils import to_categorical
from sklearn.model_selection import cross_val_score
from sklearn.model_selection import KFold
from sklearn.preprocessing import LabelEncoder
from sklearn.pipeline import Pipeline


# fix random seed for reproducibility
seed = 7
np.random.seed(seed)
# load dataset
column_names = ['Sepal Length', 'Sepal Width', 'Petal Length', 'Petal Width', 'Class']
df = pd.read_csv('iris.data.csv', names=column_names)
ds = df.values
X = ds[:,0:4].astype(float)
Y = ds[:,4]


df.shape


df.dtypes


df.head(20)


df.groupby('Class').size()


ds.shape


Y = Y.reshape(-1, 1)


# encode class values as integers
encoder = LabelEncoder()
encoder.fit(Y)
encoded_Y = encoder.transform(Y)
# convert integers to dummy variables (i.e. one hot encoded)
Y_hot_encoded = to_categorical(encoded_Y, num_classes=3)
print(Y_hot_encoded)


from keras.optimizers import Adam


def baseline_model():
    model = Sequential()
    model.add(Dense(4, input_dim=4, activation='relu', kernel_initializer='normal'))
    model.add(Dense(3, activation='sigmoid', kernel_initializer='normal'))
    
    # Compile model
    model.compile(loss='categorical_crossentropy', optimizer=Adam(), metrics=['accuracy'])
    
    # Debug print to check model summary
    model.summary()
    
    return model

# Seed for reproducibility
seed = 7
np.random.seed(seed)

# Create the estimator
estimator = KerasClassifier(build_fn=baseline_model, epochs=10, batch_size=5, verbose=1)

# k-Fold cross-validation
kfold = KFold(n_splits=10, shuffle=True, random_state=seed)
results = cross_val_score(estimator, X, Y_hot_encoded, cv=kfold)

print("Accuracy: %.2f%% (%.2f%%)" % (results.mean()*100, results.std()*100))



